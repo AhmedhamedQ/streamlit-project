{
 "cells": [
  {
   "cell_type": "code",
   "execution_count": 1,
   "id": "4547a049",
   "metadata": {},
   "outputs": [
    {
     "name": "stdout",
     "output_type": "stream",
     "text": [
      "Overwriting FIFA_stream.py\n"
     ]
    }
   ],
   "source": [
    "%%writefile FIFA_stream.py\n",
    "import pandas as pd \n",
    "import plotly.express as px \n",
    "import plotly.figure_factory as ff\n",
    "import streamlit as st\n",
    "df = pd.read_csv(\"fifa_eda - fifa_eda.csv\")\n",
    "def page1():\n",
    "    st.title(\"Data Description\")\n",
    "    st.header(\"Data Head\")\n",
    "    st.write(df.head(10))\n",
    "    st.header(\"Decriptive Statstics\")\n",
    "    st.write(df.describe())\n",
    "    st.header(\"Number of players for each club\")\n",
    "    st.write(df[\"Club\"].value_counts())\n",
    "    c1 ,c2  = st.columns([2,2])\n",
    "    with c1 :\n",
    "        st.subheader(\"Top 5 highest paid clubs\")\n",
    "        st.write(df.groupby(\"Club\").sum()[\"Wage\"].sort_values(ascending=False).reset_index().head(5))\n",
    "    with c2 :\n",
    "        st.subheader(\"Top 5 highest skils\")\n",
    "        st.write(df[df[\"Overall\"] >90][[\"Name\",\"Overall\"]].head())\n",
    "        \n",
    "    st.subheader(\"Highest Value\")\n",
    "    st.write(df[df[\"Value\"] == df[\"Value\"].max()][[\"Name\",\"Age\" ,'Value']])\n",
    "\n",
    "def page2():\n",
    "    st.title(\"Numerical Charts\")\n",
    "    st.header(\"Histogram Charts\")\n",
    "    st.sidebar.subheader(\"Histogram Column\")\n",
    "    Histogram_column = st.sidebar.selectbox(\"Select Histogram Col\" ,['Overall','Value', 'Wage'])\n",
    "    fig = px.histogram(df , x = Histogram_column ,title = Histogram_column.capitalize() + \" Distribution\")\n",
    "    st.plotly_chart(fig)\n",
    "    st.sidebar.subheader(\"Scatter X Column\")\n",
    "    Sc_X_col =st.sidebar.selectbox(\"Select Scatter X Column\" ,['Overall','Value', 'Wage'])\n",
    "    st.sidebar.subheader(\"Scatter Y Column\")\n",
    "    Sc_Y_col =st.sidebar.selectbox(\"Select Scatter Y Column\" , ['Overall','Value', 'Wage'])\n",
    "    sca_color = st.sidebar.checkbox(\"Scatter with Color\")\n",
    "    if sca_color:\n",
    "        st.sidebar.subheader(\"Scatter Color\")\n",
    "        Sc_Color_col =st.sidebar.selectbox(\"Select Scatter Color Col\" ,['Preferred Foot', 'Age', 'Nationality','Position',\"Club\",\"Skill Moves\"])    \n",
    "        fig2 = px.scatter(df , x =Sc_X_col , y = Sc_Y_col ,color=Sc_Color_col, labels={Sc_X_col : Sc_X_col.capitalize() , Sc_Y_col :Sc_Y_col.capitalize()   })\n",
    "        st.plotly_chart(fig2)\n",
    "    else:\n",
    "        fig3 = px.scatter(df , x =Sc_X_col , y = Sc_Y_col , labels={Sc_X_col : Sc_X_col.capitalize() , Sc_Y_col :Sc_Y_col.capitalize()   })\n",
    "        st.plotly_chart(fig3)\n",
    "\n",
    "def page3():\n",
    "    st.title(\"Categorical Charts\")\n",
    "    st.header(\"Count Plot\")\n",
    "    st.sidebar.subheader(\"Count Plot Column\")\n",
    "    Count_Columns = st.sidebar.selectbox(\"Select Count Plot Col\" ,['Preferred Foot', 'Age', 'Nationality','Position',\"Club\",\"Skill Moves\"] )\n",
    "    Color_Check = st.sidebar.checkbox(\"Count With Color\")\n",
    "    if Color_Check :\n",
    "        st.sidebar.subheader(\"Count Color Col\")\n",
    "        Count_Color_Columns = st.sidebar.selectbox(\"Select Count Plot Color\" , ['Preferred Foot', 'Age', 'Nationality','Position',\"Club\",\"Skill Moves\"])\n",
    "        Group_Mode = st.sidebar.radio(\"Select Bar Mode\" , [\"relative\" , \"group\"]) \n",
    "        fig_4 = px.histogram(data_frame= df , x =Count_Columns , color= Count_Color_Columns , barmode=Group_Mode)\n",
    "        st.plotly_chart(fig_4)\n",
    "    else :\n",
    "        fig_4 = px.histogram(data_frame= df , x =Count_Columns)\n",
    "        st.plotly_chart(fig_4) \n",
    "    \n",
    "    st.header(\"Bar Plot\")\n",
    "    st.sidebar.subheader(\"Bar X Col\")\n",
    "    barX_column =st.sidebar.selectbox(\"Select Bar X Col\" ,['Preferred Foot', 'Age', 'Nationality','Position',\"Club\",\"Skill Moves\"])\n",
    "    st.sidebar.subheader(\"Bar Y Col\")\n",
    "    barY_column =st.sidebar.selectbox(\"Select Bar Y Col\" ,['Overall','Value', 'Wage'])\n",
    "    fig_5 = px.bar(data_frame=df , x = barX_column , y =barY_column )\n",
    "    st.plotly_chart(fig_5)\n",
    "\n",
    "Func_to_names = {\n",
    "    \"Data Describe\" : page1 ,\n",
    "    \"Numerical\" : page2 ,\n",
    "    \"Categorical\" : page3\n",
    "} \n",
    "User_Choice = st.sidebar.selectbox(\"Select Your Page\" ,Func_to_names.keys() )\n",
    "Func_to_names[User_Choice]()\n"
   ]
  },
  {
   "cell_type": "code",
   "execution_count": null,
   "id": "9bf54781",
   "metadata": {},
   "outputs": [],
   "source": []
  }
 ],
 "metadata": {
  "kernelspec": {
   "display_name": "Python 3 (ipykernel)",
   "language": "python",
   "name": "python3"
  },
  "language_info": {
   "codemirror_mode": {
    "name": "ipython",
    "version": 3
   },
   "file_extension": ".py",
   "mimetype": "text/x-python",
   "name": "python",
   "nbconvert_exporter": "python",
   "pygments_lexer": "ipython3",
   "version": "3.9.12"
  }
 },
 "nbformat": 4,
 "nbformat_minor": 5
}
